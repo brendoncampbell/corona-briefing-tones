{
 "cells": [
  {
   "cell_type": "code",
   "execution_count": null,
   "metadata": {},
   "outputs": [],
   "source": []
  },
  {
   "cell_type": "markdown",
   "metadata": {},
   "source": [
    "### Analysis of Sentiment & Emotions:"
   ]
  },
  {
   "cell_type": "code",
   "execution_count": 14,
   "metadata": {},
   "outputs": [
    {
     "ename": "NameError",
     "evalue": "name 'main_speakers_df' is not defined",
     "output_type": "error",
     "traceback": [
      "\u001b[0;31m---------------------------------------------------------------------------\u001b[0m",
      "\u001b[0;31mNameError\u001b[0m                                 Traceback (most recent call last)",
      "\u001b[0;32m<ipython-input-14-8a652563dadf>\u001b[0m in \u001b[0;36m<module>\u001b[0;34m\u001b[0m\n\u001b[1;32m      8\u001b[0m                         'Mike Pompeo']\n\u001b[1;32m      9\u001b[0m \u001b[0;34m\u001b[0m\u001b[0m\n\u001b[0;32m---> 10\u001b[0;31m \u001b[0mtop_speaker_df\u001b[0m \u001b[0;34m=\u001b[0m \u001b[0mmain_speakers_df\u001b[0m\u001b[0;34m[\u001b[0m\u001b[0mmain_speakers_df\u001b[0m\u001b[0;34m[\u001b[0m\u001b[0;34m'speaker'\u001b[0m\u001b[0;34m]\u001b[0m\u001b[0;34m.\u001b[0m\u001b[0misin\u001b[0m\u001b[0;34m(\u001b[0m\u001b[0mspeakers_of_interest\u001b[0m\u001b[0;34m)\u001b[0m\u001b[0;34m]\u001b[0m\u001b[0;34m\u001b[0m\u001b[0;34m\u001b[0m\u001b[0m\n\u001b[0m\u001b[1;32m     11\u001b[0m \u001b[0;34m\u001b[0m\u001b[0m\n\u001b[1;32m     12\u001b[0m \u001b[0;34m\u001b[0m\u001b[0m\n",
      "\u001b[0;31mNameError\u001b[0m: name 'main_speakers_df' is not defined"
     ]
    }
   ],
   "source": [
    "# define speakers of interest and subset df\n",
    "\n",
    "speakers_of_interest = ['Donald Trump', \n",
    "                        'Mike Pence', \n",
    "                        'Dr. Deborah Birx',\n",
    "                        'Dr. Anthony Fauci',\n",
    "                        'Steve Mnuchin',\n",
    "                        'Mike Pompeo']\n",
    "\n",
    "top_speaker_df = main_speakers_df[main_speakers_df['speaker'].isin(speakers_of_interest)]\n",
    "\n",
    "\n",
    "\n",
    "df = df.groupby('speaker').mean()\n",
    "df.reset_index(inplace = True)\n",
    "df"
   ]
  },
  {
   "cell_type": "code",
   "execution_count": null,
   "metadata": {},
   "outputs": [],
   "source": [
    "# look at mean scores for each speaker\n",
    "# need to add sentiment scores before doing this step\n",
    "speaker_scores = briefings_df.groupby('speaker').mean()\n",
    "speaker_scores.sort_values('polarity', ascending=False)[:20]"
   ]
  },
  {
   "cell_type": "code",
   "execution_count": null,
   "metadata": {},
   "outputs": [],
   "source": [
    "trump_df = main_speakers_df[main_speakers_df['speaker']=='Donald Trump']\n",
    "trump_df.mean()\n",
    "\n",
    "\n",
    "# https://towardsdatascience.com/fine-grained-sentiment-analysis-in-python-part-1-2697bb111ed4\n",
    "# https://towardsdatascience.com/fasttext-sentiment-analysis-for-tweets-a-straightforward-guide-9a8c070449a2"
   ]
  },
  {
   "cell_type": "code",
   "execution_count": null,
   "metadata": {},
   "outputs": [],
   "source": [
    "df = trump_df.groupby('date').mean()\n",
    "df.reset_index(inplace = True)\n",
    "df"
   ]
  },
  {
   "cell_type": "code",
   "execution_count": null,
   "metadata": {},
   "outputs": [],
   "source": [
    "alt.Chart(df).mark_line().encode(\n",
    "    x='date:T',\n",
    "    y='polarity:Q',\n",
    "    color='speaker:N'\n",
    ").facet(\n",
    "    column='speaker:N'\n",
    ")\n",
    "\n",
    "\n",
    "# mark_Rule"
   ]
  },
  {
   "cell_type": "code",
   "execution_count": null,
   "metadata": {},
   "outputs": [],
   "source": [
    "# look at trump's most negative tweets\n",
    "# showcase some of the iconic moments (easter, somber about deaths )\n",
    "\n",
    "trump_df.sort_values(by='polarity', ascending=False)[:12]\n",
    "trump_df.sort_values(by='polarity')[:12]"
   ]
  },
  {
   "cell_type": "code",
   "execution_count": null,
   "metadata": {},
   "outputs": [],
   "source": [
    "alt.Chart(trump_df).mark_circle(size=60).encode(\n",
    "    x='polarity',\n",
    "    y='subjectivity'\n",
    ")\n"
   ]
  },
  {
   "cell_type": "code",
   "execution_count": null,
   "metadata": {},
   "outputs": [],
   "source": []
  },
  {
   "cell_type": "code",
   "execution_count": null,
   "metadata": {},
   "outputs": [],
   "source": [
    "# adjust date range??? see subset below\n",
    "trump_feels = briefings_df[briefings_df['speaker']=='Donald Trump']\n",
    "trump_feels_by_date = trump_feels[130:].groupby(['date']).mean().reset_index()\n",
    "trump_feels_by_date = trump_feels_by_date.drop(columns=['word'])\n",
    "trump_feels_by_date = trump_feels_by_date.melt('date', var_name='emo', value_name='value')\n",
    "trump_feels_by_date\n",
    "\n",
    "alt.Chart(trump_feels_by_date).mark_line().encode(\n",
    "    x='date:T',\n",
    "    y='value:Q',\n",
    "    color='emo:N'\n",
    ").properties(width=800, height = 600)"
   ]
  },
  {
   "cell_type": "code",
   "execution_count": null,
   "metadata": {},
   "outputs": [],
   "source": [
    "# adjust date range??? see subset below\n",
    "trump_feels = briefings_df[briefings_df['speaker']=='Donald Trump']\n",
    "trump_feels_by_date = trump_feels[130:].groupby(['date']).mean().reset_index()\n",
    "trump_feels_by_date = trump_feels_by_date.drop(columns=['word'])\n",
    "trump_feels_by_date = trump_feels_by_date.melt('date', var_name='emo', value_name='value')\n",
    "trump_feels_by_date\n",
    "\n",
    "alt.Chart(trump_feels_by_date).mark_area().encode(\n",
    "    x='date:T',\n",
    "    y='value:Q',\n",
    "    color='emo:N'\n",
    ").properties(width=800, height = 600, title = 'Donald Trump')"
   ]
  },
  {
   "cell_type": "code",
   "execution_count": null,
   "metadata": {},
   "outputs": [],
   "source": [
    "speaker_feels = briefings_df[briefings_df['speaker']=='Dr. Deborah Birx']\n",
    "speaker_feels_by_date = speaker_feels.groupby(['date']).mean().reset_index()\n",
    "speaker_feels_by_date"
   ]
  },
  {
   "cell_type": "code",
   "execution_count": null,
   "metadata": {},
   "outputs": [],
   "source": [
    "# adjust date range??? see subset below\n",
    "speaker_feels = briefings_df[briefings_df['speaker']=='Dr. Deborah Birx']\n",
    "speaker_feels_by_date = speaker_feels.groupby(['date']).mean().reset_index()\n",
    "speaker_feels_by_date = speaker_feels_by_date.drop(columns=['word'])\n",
    "speaker_feels_by_date = speaker_feels_by_date.melt('date', var_name='emo', value_name='value')\n",
    "speaker_feels_by_date\n",
    "\n",
    "alt.Chart(speaker_feels_by_date).mark_area().encode(\n",
    "    x='date:T',\n",
    "    y='value:Q',\n",
    "    color='emo:N'\n",
    ").properties(width=800, height = 600, title = 'Dr. Deborah Birx')"
   ]
  },
  {
   "cell_type": "code",
   "execution_count": null,
   "metadata": {},
   "outputs": [],
   "source": [
    "# experiment with different plot types\n",
    "\n",
    "fauci_feels = briefings_df[briefings_df['speaker']=='Dr. Anthony Fauci']\n",
    "fauci_feels_by_date = fauci_feels.groupby(['date']).mean().reset_index()\n",
    "fauci_feels_by_date = fauci_feels_by_date.drop(columns=['word'])\n",
    "fauci_feels_by_date = fauci_feels_by_date.melt('date', var_name='emo', value_name='value')\n",
    "fauci_feels_by_date\n",
    "\n",
    "alt.Chart(fauci_feels_by_date).mark_area().encode(\n",
    "    x='date:T',\n",
    "    y='value:Q',\n",
    "    color='emo:N'\n",
    ").properties(width=800, height = 600)"
   ]
  },
  {
   "cell_type": "code",
   "execution_count": null,
   "metadata": {},
   "outputs": [],
   "source": []
  }
 ],
 "metadata": {
  "kernelspec": {
   "display_name": "Python 3",
   "language": "python",
   "name": "python3"
  },
  "language_info": {
   "codemirror_mode": {
    "name": "ipython",
    "version": 3
   },
   "file_extension": ".py",
   "mimetype": "text/x-python",
   "name": "python",
   "nbconvert_exporter": "python",
   "pygments_lexer": "ipython3",
   "version": "3.7.6"
  }
 },
 "nbformat": 4,
 "nbformat_minor": 4
}
