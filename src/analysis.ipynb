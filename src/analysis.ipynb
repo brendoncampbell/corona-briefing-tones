{
 "cells": [
  {
   "cell_type": "markdown",
   "metadata": {},
   "source": [
    "Show how the proportion of certain sentiments evolved over time from session to session\n",
    "\n",
    "Ridge plots showing sentiment by paragraph over time within a single session\n",
    "\n",
    "https://www.youtube.com/watch?v=xvqsFTUsOmc\n",
    "\n",
    "Mentions of states\n",
    "\n",
    "Compare to governor cuomo"
   ]
  },
  {
   "cell_type": "code",
   "execution_count": null,
   "metadata": {},
   "outputs": [],
   "source": []
  },
  {
   "cell_type": "code",
   "execution_count": null,
   "metadata": {},
   "outputs": [],
   "source": []
  }
 ],
 "metadata": {
  "kernelspec": {
   "display_name": "Python 3",
   "language": "python",
   "name": "python3"
  },
  "language_info": {
   "codemirror_mode": {
    "name": "ipython",
    "version": 3
   },
   "file_extension": ".py",
   "mimetype": "text/x-python",
   "name": "python",
   "nbconvert_exporter": "python",
   "pygments_lexer": "ipython3",
   "version": "3.7.6"
  }
 },
 "nbformat": 4,
 "nbformat_minor": 4
}
