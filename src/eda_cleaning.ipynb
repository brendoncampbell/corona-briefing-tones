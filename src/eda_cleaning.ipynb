{
 "cells": [
  {
   "cell_type": "code",
   "execution_count": 5,
   "metadata": {},
   "outputs": [],
   "source": [
    "import pandas as pd\n",
    "import altair as alt"
   ]
  },
  {
   "cell_type": "code",
   "execution_count": 6,
   "metadata": {},
   "outputs": [],
   "source": [
    "# run scraping script to save briefings as csv\n",
    "%run scrape_briefings.py"
   ]
  },
  {
   "cell_type": "code",
   "execution_count": 7,
   "metadata": {},
   "outputs": [
    {
     "data": {
      "text/html": [
       "<div>\n",
       "<style scoped>\n",
       "    .dataframe tbody tr th:only-of-type {\n",
       "        vertical-align: middle;\n",
       "    }\n",
       "\n",
       "    .dataframe tbody tr th {\n",
       "        vertical-align: top;\n",
       "    }\n",
       "\n",
       "    .dataframe thead th {\n",
       "        text-align: right;\n",
       "    }\n",
       "</style>\n",
       "<table border=\"1\" class=\"dataframe\">\n",
       "  <thead>\n",
       "    <tr style=\"text-align: right;\">\n",
       "      <th></th>\n",
       "      <th>date</th>\n",
       "      <th>timestamp</th>\n",
       "      <th>speaker</th>\n",
       "      <th>text</th>\n",
       "    </tr>\n",
       "  </thead>\n",
       "  <tbody>\n",
       "    <tr>\n",
       "      <th>0</th>\n",
       "      <td>2020-02-26</td>\n",
       "      <td>05:39</td>\n",
       "      <td>Donald Trump</td>\n",
       "      <td>Thank you very much everybody. Thank you very ...</td>\n",
       "    </tr>\n",
       "    <tr>\n",
       "      <th>1</th>\n",
       "      <td>2020-02-26</td>\n",
       "      <td>06:59</td>\n",
       "      <td>Donald Trump</td>\n",
       "      <td>A lot of people thought we shouldn’t have done...</td>\n",
       "    </tr>\n",
       "    <tr>\n",
       "      <th>2</th>\n",
       "      <td>2020-02-26</td>\n",
       "      <td>07:51</td>\n",
       "      <td>Donald Trump</td>\n",
       "      <td>We have a total of 15. We took in some from Ja...</td>\n",
       "    </tr>\n",
       "    <tr>\n",
       "      <th>3</th>\n",
       "      <td>2020-02-26</td>\n",
       "      <td>09:58</td>\n",
       "      <td>Donald Trump</td>\n",
       "      <td>China you know about. Where it started. I spok...</td>\n",
       "    </tr>\n",
       "    <tr>\n",
       "      <th>4</th>\n",
       "      <td>2020-02-26</td>\n",
       "      <td>10:52</td>\n",
       "      <td>Donald Trump</td>\n",
       "      <td>We’re bringing in a specialist, a very highly ...</td>\n",
       "    </tr>\n",
       "    <tr>\n",
       "      <th>...</th>\n",
       "      <td>...</td>\n",
       "      <td>...</td>\n",
       "      <td>...</td>\n",
       "      <td>...</td>\n",
       "    </tr>\n",
       "    <tr>\n",
       "      <th>9677</th>\n",
       "      <td>2020-04-27</td>\n",
       "      <td>01:01:23</td>\n",
       "      <td>Reporters</td>\n",
       "      <td>[crosstalk 00:13:23].</td>\n",
       "    </tr>\n",
       "    <tr>\n",
       "      <th>9678</th>\n",
       "      <td>2020-04-27</td>\n",
       "      <td>01:01:24</td>\n",
       "      <td>Donald Trump</td>\n",
       "      <td>Let’s do one more. Please, in the back.</td>\n",
       "    </tr>\n",
       "    <tr>\n",
       "      <th>9679</th>\n",
       "      <td>2020-04-27</td>\n",
       "      <td>01:01:26</td>\n",
       "      <td>Speaker 16</td>\n",
       "      <td>If an American president loses more Americans ...</td>\n",
       "    </tr>\n",
       "    <tr>\n",
       "      <th>9680</th>\n",
       "      <td>2020-04-27</td>\n",
       "      <td>01:01:36</td>\n",
       "      <td>Donald Trump</td>\n",
       "      <td>So yeah, we’ve lost a lot of people, but if yo...</td>\n",
       "    </tr>\n",
       "    <tr>\n",
       "      <th>9681</th>\n",
       "      <td>2020-04-27</td>\n",
       "      <td>01:02:17</td>\n",
       "      <td>Donald Trump</td>\n",
       "      <td>The press doesn’t talk about ventilators anymo...</td>\n",
       "    </tr>\n",
       "  </tbody>\n",
       "</table>\n",
       "<p>9682 rows × 4 columns</p>\n",
       "</div>"
      ],
      "text/plain": [
       "            date timestamp       speaker  \\\n",
       "0     2020-02-26     05:39  Donald Trump   \n",
       "1     2020-02-26     06:59  Donald Trump   \n",
       "2     2020-02-26     07:51  Donald Trump   \n",
       "3     2020-02-26     09:58  Donald Trump   \n",
       "4     2020-02-26     10:52  Donald Trump   \n",
       "...          ...       ...           ...   \n",
       "9677  2020-04-27  01:01:23     Reporters   \n",
       "9678  2020-04-27  01:01:24  Donald Trump   \n",
       "9679  2020-04-27  01:01:26    Speaker 16   \n",
       "9680  2020-04-27  01:01:36  Donald Trump   \n",
       "9681  2020-04-27  01:02:17  Donald Trump   \n",
       "\n",
       "                                                   text  \n",
       "0     Thank you very much everybody. Thank you very ...  \n",
       "1     A lot of people thought we shouldn’t have done...  \n",
       "2     We have a total of 15. We took in some from Ja...  \n",
       "3     China you know about. Where it started. I spok...  \n",
       "4     We’re bringing in a specialist, a very highly ...  \n",
       "...                                                 ...  \n",
       "9677                              [crosstalk 00:13:23].  \n",
       "9678            Let’s do one more. Please, in the back.  \n",
       "9679  If an American president loses more Americans ...  \n",
       "9680  So yeah, we’ve lost a lot of people, but if yo...  \n",
       "9681  The press doesn’t talk about ventilators anymo...  \n",
       "\n",
       "[9682 rows x 4 columns]"
      ]
     },
     "execution_count": 7,
     "metadata": {},
     "output_type": "execute_result"
    }
   ],
   "source": [
    "# import scraped csv to pandas df\n",
    "briefings_df = pd.read_csv('../data/all_briefings.csv')\n",
    "briefings_df"
   ]
  },
  {
   "cell_type": "markdown",
   "metadata": {},
   "source": [
    "### Checking for null values:"
   ]
  },
  {
   "cell_type": "code",
   "execution_count": 8,
   "metadata": {},
   "outputs": [
    {
     "data": {
      "text/html": [
       "<div>\n",
       "<style scoped>\n",
       "    .dataframe tbody tr th:only-of-type {\n",
       "        vertical-align: middle;\n",
       "    }\n",
       "\n",
       "    .dataframe tbody tr th {\n",
       "        vertical-align: top;\n",
       "    }\n",
       "\n",
       "    .dataframe thead th {\n",
       "        text-align: right;\n",
       "    }\n",
       "</style>\n",
       "<table border=\"1\" class=\"dataframe\">\n",
       "  <thead>\n",
       "    <tr style=\"text-align: right;\">\n",
       "      <th></th>\n",
       "      <th>date</th>\n",
       "      <th>timestamp</th>\n",
       "      <th>speaker</th>\n",
       "      <th>text</th>\n",
       "    </tr>\n",
       "  </thead>\n",
       "  <tbody>\n",
       "    <tr>\n",
       "      <th>7217</th>\n",
       "      <td>2020-04-13</td>\n",
       "      <td>16:03</td>\n",
       "      <td>Donald Trump</td>\n",
       "      <td>NaN</td>\n",
       "    </tr>\n",
       "    <tr>\n",
       "      <th>8339</th>\n",
       "      <td>2020-04-19</td>\n",
       "      <td>23:03</td>\n",
       "      <td>Andrew Cuomo</td>\n",
       "      <td>NaN</td>\n",
       "    </tr>\n",
       "    <tr>\n",
       "      <th>9181</th>\n",
       "      <td>2020-04-22</td>\n",
       "      <td>01:15:03</td>\n",
       "      <td>Dr. Birx</td>\n",
       "      <td>NaN</td>\n",
       "    </tr>\n",
       "  </tbody>\n",
       "</table>\n",
       "</div>"
      ],
      "text/plain": [
       "            date timestamp       speaker text\n",
       "7217  2020-04-13     16:03  Donald Trump  NaN\n",
       "8339  2020-04-19     23:03  Andrew Cuomo  NaN\n",
       "9181  2020-04-22  01:15:03      Dr. Birx  NaN"
      ]
     },
     "execution_count": 8,
     "metadata": {},
     "output_type": "execute_result"
    }
   ],
   "source": [
    "briefings_df[briefings_df['text'].isnull()]"
   ]
  },
  {
   "cell_type": "markdown",
   "metadata": {},
   "source": [
    "Manually comparing with the full transcripts and videos we can see these correspond to the speaker being cut off or uttering something inaudible. Let's simply drop these three rows."
   ]
  },
  {
   "cell_type": "code",
   "execution_count": 9,
   "metadata": {},
   "outputs": [],
   "source": [
    "briefings_df = briefings_df.dropna(subset=['text']).reset_index(drop=True)"
   ]
  },
  {
   "cell_type": "markdown",
   "metadata": {},
   "source": [
    "### Cleaning up speaker names"
   ]
  },
  {
   "cell_type": "code",
   "execution_count": 10,
   "metadata": {},
   "outputs": [
    {
     "data": {
      "text/plain": [
       "Donald Trump              4013\n",
       "Mike Pence                 751\n",
       "Dr. Birx                   244\n",
       "Dr. Fauci                  237\n",
       "John                       161\n",
       "Deborah Birx               101\n",
       "Admiral Giroir              94\n",
       "Dr. Deborah Birx            94\n",
       "Speaker 8                   93\n",
       "Speaker 7                   92\n",
       "Speaker 5                   88\n",
       "Steve Mnuchin               84\n",
       "Speaker 11                  82\n",
       "Speaker 12                  82\n",
       "Speaker 22                  79\n",
       "Speaker 3                   78\n",
       "Speaker 9                   76\n",
       "Speaker 10                  76\n",
       "Speaker 6                   73\n",
       "Speaker 4                   73\n",
       "Speaker 13                  72\n",
       "Speaker 14                  68\n",
       "Speaker 2                   65\n",
       "Speaker 19                  64\n",
       "Speaker 15                  61\n",
       "Speaker 16                  60\n",
       "Mike Pompeo                 59\n",
       "Reporter                    58\n",
       "Jeff                        56\n",
       "Vice President Pence        53\n",
       "Speaker 18                  52\n",
       "Speaker 23                  52\n",
       "Speaker 1                   49\n",
       "Speaker 17                  47\n",
       "Jim                         47\n",
       "Steve                       45\n",
       "President Donald Trump      45\n",
       "Speaker 20                  44\n",
       "Dr. Hahn                    42\n",
       "Seema Verma                 42\n",
       "Speaker 21                  40\n",
       "Speaker 24                  39\n",
       "Speaker 25                  38\n",
       "Admiral Polowczyk           37\n",
       "Michael Pence               36\n",
       "Speaker 26                  36\n",
       "Peter                       33\n",
       "President Trump             33\n",
       "Alex Azar                   32\n",
       "Speaker 27                  32\n",
       "Name: speaker, dtype: int64"
      ]
     },
     "execution_count": 10,
     "metadata": {},
     "output_type": "execute_result"
    }
   ],
   "source": [
    "# how many paragraphs of text for the top speakers?\n",
    "briefings_df['speaker'].value_counts()[:50]"
   ]
  },
  {
   "cell_type": "markdown",
   "metadata": {},
   "source": [
    "Looking at the output above and inspecting the data in more detail we can see there's opportunity to:\n",
    "- Consolidate numbered unnamed speakers and reporters, since numbering is not consisent across briefings\n",
    "- Note specific recurring reports who are referred to by first name\n",
    "- Standardize the name used for other important speakers who have multiple spellings/titles/variations present"
   ]
  },
  {
   "cell_type": "code",
   "execution_count": 11,
   "metadata": {},
   "outputs": [],
   "source": [
    "# replace speaker names using basic regex\n",
    "briefings_df['speaker'].replace(regex={r'.*Trump.*': 'Donald Trump', \n",
    "                                       r'.*Pence.*': 'Mike Pence',\n",
    "                                       r'.*Fauci.*': 'Dr. Anthony Fauci',\n",
    "                                       r'.*Birx.*': 'Dr. Deborah Birx',\n",
    "                                       r'.*Berks.*': 'Dr. Deborah Birx',\n",
    "                                       r'.*Pompeo.*': 'Mike Pompeo',\n",
    "                                       r'.*Report.*': 'Unnamed (Reporter)',\n",
    "                                       r'.*Audience Member.*': 'Unnamed',\n",
    "                                       r'.*Speaker .*': 'Unnamed', \n",
    "                                       r'.*Jeff\\Z': 'Jeff (Reporter)',\n",
    "                                       r'.*John\\Z': 'John (Reporter)',\n",
    "                                       r'.*Peter\\Z': 'Peter (Reporter)',\n",
    "                                       r'.*Jim\\Z': 'Jim (Reporter)',\n",
    "                                       r'.*Steve\\Z': 'Steve (Reporter)',\n",
    "                                       r'.*Pete\\Z': 'Pete Gaynor',\n",
    "                                       r'.*Novarro.*': 'Peter Navarro',\n",
    "                                       r'.*Surgeon General.*': 'Jerome Adams',\n",
    "                                       r'.*Giroir.*': 'Brett Giroir',\n",
    "                                       r'.*Polowczyk.*': 'John Polowczyk',\n",
    "                                       r'.*Verma.*': 'Seema Verma',\n",
    "                                       r'.*Azar.*': 'Alex Azar',\n",
    "                                       r'.*Hahn.*': 'Dr. Steven Hahn',\n",
    "                                       r'.*Mnuchin.*': 'Steve Mnuchin'},\n",
    "                                inplace = True)"
   ]
  },
  {
   "cell_type": "code",
   "execution_count": 12,
   "metadata": {},
   "outputs": [
    {
     "data": {
      "text/plain": [
       "Donald Trump          4091\n",
       "Unnamed               2038\n",
       "Mike Pence             849\n",
       "Dr. Deborah Birx       491\n",
       "Dr. Anthony Fauci      317\n",
       "Unnamed (Reporter)     215\n",
       "John (Reporter)        162\n",
       "Steve Mnuchin          136\n",
       "Brett Giroir           100\n",
       "Mike Pompeo             81\n",
       "Dr. Steven Hahn         64\n",
       "Alex Azar               63\n",
       "Jeff (Reporter)         56\n",
       "Seema Verma             56\n",
       "John Polowczyk          49\n",
       "Jerome Adams            48\n",
       "Jim (Reporter)          47\n",
       "Steve (Reporter)        46\n",
       "Peter Navarro           35\n",
       "Peter (Reporter)        33\n",
       "Kelly                   23\n",
       "Jared Kushner           23\n",
       "General Semonite        23\n",
       "Mark Esper              22\n",
       "Bill Bryan              19\n",
       "Name: speaker, dtype: int64"
      ]
     },
     "execution_count": 12,
     "metadata": {},
     "output_type": "execute_result"
    }
   ],
   "source": [
    "# how many paragraphs of text per speaker?\n",
    "top_speaker_counts = briefings_df['speaker'].value_counts()[:25]\n",
    "top_speaker_counts"
   ]
  },
  {
   "cell_type": "code",
   "execution_count": 13,
   "metadata": {},
   "outputs": [],
   "source": [
    "# save cleaned df to csv\n",
    "briefings_df.to_csv(\"../data/cleaned_briefings.csv\",index=False)"
   ]
  },
  {
   "cell_type": "code",
   "execution_count": null,
   "metadata": {},
   "outputs": [],
   "source": []
  }
 ],
 "metadata": {
  "kernelspec": {
   "display_name": "Python 3",
   "language": "python",
   "name": "python3"
  },
  "language_info": {
   "codemirror_mode": {
    "name": "ipython",
    "version": 3
   },
   "file_extension": ".py",
   "mimetype": "text/x-python",
   "name": "python",
   "nbconvert_exporter": "python",
   "pygments_lexer": "ipython3",
   "version": "3.7.6"
  }
 },
 "nbformat": 4,
 "nbformat_minor": 4
}
