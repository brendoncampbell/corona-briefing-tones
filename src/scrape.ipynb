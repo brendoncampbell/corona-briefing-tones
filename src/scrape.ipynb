{
 "cells": [
  {
   "cell_type": "code",
   "execution_count": 1,
   "metadata": {},
   "outputs": [],
   "source": [
    "# https://www.rev.com/blog/transcript-tag/coronavirus-update-transcripts"
   ]
  },
  {
   "cell_type": "code",
   "execution_count": 28,
   "metadata": {},
   "outputs": [],
   "source": [
    "import pandas as pd\n",
    "import time\n",
    "import re\n",
    "import requests\n",
    "from datetime import datetime\n",
    "from bs4 import BeautifulSoup as bs"
   ]
  },
  {
   "cell_type": "code",
   "execution_count": 3,
   "metadata": {},
   "outputs": [],
   "source": [
    "briefing_response = requests.get(\"https://www.rev.com/blog/transcripts/donald-trump-coronavirus-briefing-transcript-april-3-new-cdc-face-mask-recommendations\")"
   ]
  },
  {
   "cell_type": "code",
   "execution_count": 4,
   "metadata": {},
   "outputs": [],
   "source": [
    "briefing = bs(briefing_response.text)"
   ]
  },
  {
   "cell_type": "code",
   "execution_count": 6,
   "metadata": {},
   "outputs": [],
   "source": [
    "briefing_text = briefing.find(\"div\",{\"class\":\"fl-callout-text\"})"
   ]
  },
  {
   "cell_type": "code",
   "execution_count": 46,
   "metadata": {},
   "outputs": [
    {
     "data": {
      "text/html": [
       "<div>\n",
       "<style scoped>\n",
       "    .dataframe tbody tr th:only-of-type {\n",
       "        vertical-align: middle;\n",
       "    }\n",
       "\n",
       "    .dataframe tbody tr th {\n",
       "        vertical-align: top;\n",
       "    }\n",
       "\n",
       "    .dataframe thead th {\n",
       "        text-align: right;\n",
       "    }\n",
       "</style>\n",
       "<table border=\"1\" class=\"dataframe\">\n",
       "  <thead>\n",
       "    <tr style=\"text-align: right;\">\n",
       "      <th></th>\n",
       "      <th>date</th>\n",
       "      <th>timestamp</th>\n",
       "      <th>speaker</th>\n",
       "      <th>text</th>\n",
       "    </tr>\n",
       "  </thead>\n",
       "  <tbody>\n",
       "    <tr>\n",
       "      <th>0</th>\n",
       "      <td>2020-04-03</td>\n",
       "      <td>00:00</td>\n",
       "      <td>Donald Trump</td>\n",
       "      <td>With Kevin McCarthy, future speaker of the hou...</td>\n",
       "    </tr>\n",
       "    <tr>\n",
       "      <th>1</th>\n",
       "      <td>2020-04-03</td>\n",
       "      <td>00:27</td>\n",
       "      <td>Kevin McCarthy</td>\n",
       "      <td>Well thank you Mr. President and I would like ...</td>\n",
       "    </tr>\n",
       "    <tr>\n",
       "      <th>2</th>\n",
       "      <td>2020-04-03</td>\n",
       "      <td>01:20</td>\n",
       "      <td>Donald Trump</td>\n",
       "      <td>Great job you’re doing. Thank you.</td>\n",
       "    </tr>\n",
       "    <tr>\n",
       "      <th>3</th>\n",
       "      <td>2020-04-03</td>\n",
       "      <td>01:22</td>\n",
       "      <td>Kevin McCarthy</td>\n",
       "      <td>Thank you.</td>\n",
       "    </tr>\n",
       "    <tr>\n",
       "      <th>4</th>\n",
       "      <td>2020-04-03</td>\n",
       "      <td>01:22</td>\n",
       "      <td>Donald Trump</td>\n",
       "      <td>You go ahead. I’ll talk to you later.</td>\n",
       "    </tr>\n",
       "    <tr>\n",
       "      <th>...</th>\n",
       "      <td>...</td>\n",
       "      <td>...</td>\n",
       "      <td>...</td>\n",
       "      <td>...</td>\n",
       "    </tr>\n",
       "    <tr>\n",
       "      <th>229</th>\n",
       "      <td>2020-04-03</td>\n",
       "      <td>01:15:34</td>\n",
       "      <td>Speaker 26</td>\n",
       "      <td>Do you think every state in this country shoul...</td>\n",
       "    </tr>\n",
       "    <tr>\n",
       "      <th>230</th>\n",
       "      <td>2020-04-03</td>\n",
       "      <td>01:15:39</td>\n",
       "      <td>Donald Trump</td>\n",
       "      <td>No. I think a lot of people cheat with mail in...</td>\n",
       "    </tr>\n",
       "    <tr>\n",
       "      <th>231</th>\n",
       "      <td>2020-04-03</td>\n",
       "      <td>01:16:11</td>\n",
       "      <td>Donald Trump</td>\n",
       "      <td>It should be you go to a booth and you proudly...</td>\n",
       "    </tr>\n",
       "    <tr>\n",
       "      <th>232</th>\n",
       "      <td>2020-04-03</td>\n",
       "      <td>01:16:39</td>\n",
       "      <td>Speaker 27</td>\n",
       "      <td>Do you have an update on the domestic travel r...</td>\n",
       "    </tr>\n",
       "    <tr>\n",
       "      <th>233</th>\n",
       "      <td>2020-04-03</td>\n",
       "      <td>01:16:48</td>\n",
       "      <td>Speaker 28</td>\n",
       "      <td>Why did the website definition of a stockpile ...</td>\n",
       "    </tr>\n",
       "  </tbody>\n",
       "</table>\n",
       "<p>234 rows × 4 columns</p>\n",
       "</div>"
      ],
      "text/plain": [
       "          date timestamp         speaker  \\\n",
       "0   2020-04-03     00:00    Donald Trump   \n",
       "1   2020-04-03     00:27  Kevin McCarthy   \n",
       "2   2020-04-03     01:20    Donald Trump   \n",
       "3   2020-04-03     01:22  Kevin McCarthy   \n",
       "4   2020-04-03     01:22    Donald Trump   \n",
       "..         ...       ...             ...   \n",
       "229 2020-04-03  01:15:34      Speaker 26   \n",
       "230 2020-04-03  01:15:39    Donald Trump   \n",
       "231 2020-04-03  01:16:11    Donald Trump   \n",
       "232 2020-04-03  01:16:39      Speaker 27   \n",
       "233 2020-04-03  01:16:48      Speaker 28   \n",
       "\n",
       "                                                  text  \n",
       "0    With Kevin McCarthy, future speaker of the hou...  \n",
       "1    Well thank you Mr. President and I would like ...  \n",
       "2                   Great job you’re doing. Thank you.  \n",
       "3                                           Thank you.  \n",
       "4                You go ahead. I’ll talk to you later.  \n",
       "..                                                 ...  \n",
       "229  Do you think every state in this country shoul...  \n",
       "230  No. I think a lot of people cheat with mail in...  \n",
       "231  It should be you go to a booth and you proudly...  \n",
       "232  Do you have an update on the domestic travel r...  \n",
       "233  Why did the website definition of a stockpile ...  \n",
       "\n",
       "[234 rows x 4 columns]"
      ]
     },
     "execution_count": 46,
     "metadata": {},
     "output_type": "execute_result"
    }
   ],
   "source": [
    "# empty lists to store transcript columns\n",
    "speaker = []\n",
    "timestamp = []\n",
    "text = []\n",
    "\n",
    "# iterate over transcript paragraphs\n",
    "for paragraph in briefing_text.find_all(\"p\"):\n",
    "    \n",
    "    name_match = re.search('(.+?):', paragraph.text)\n",
    "    if name_match:\n",
    "        speaker.append(name_match.group(1))\n",
    "\n",
    "    timestamp_match = re.search('\\((.+?)\\)', paragraph.text)\n",
    "    if timestamp_match:\n",
    "        timestamp.append(timestamp_match.group(1))\n",
    "    \n",
    "    corp_match_index = paragraph.text.find(\")\")+2\n",
    "    if corp_match_index:\n",
    "        text.append(paragraph.text[corp_match_index:])\n",
    "\n",
    "briefing_data = pd.DataFrame(list(zip(timestamp, speaker, text)),\n",
    "                                 columns = ['timestamp','speaker','text'])\n",
    "\n",
    "# extract briefing date and add to df\n",
    "date_string = briefing.find_all(\"div\",{\"class\":\"fl-rich-text\"})[0].text\n",
    "if date_string:\n",
    "    briefing_date = datetime.strptime(date_string, '%b %d, %Y')\n",
    "    \n",
    "briefing_data.insert(0,'date',briefing_date)\n",
    "\n",
    "briefing_data"
   ]
  },
  {
   "cell_type": "code",
   "execution_count": 63,
   "metadata": {},
   "outputs": [],
   "source": [
    "filename = briefing_date.strftime(\"%Y-%m-%d\")+(\"_tfb.csv\")\n"
   ]
  },
  {
   "cell_type": "code",
   "execution_count": 65,
   "metadata": {},
   "outputs": [
    {
     "data": {
      "text/plain": [
       "'../data/2020-04-03_tfb.csv'"
      ]
     },
     "execution_count": 65,
     "metadata": {},
     "output_type": "execute_result"
    }
   ],
   "source": [
    "filename = \"../data/\" + briefing_date.strftime(\"%Y-%m-%d\")+(\"_tfb.csv\")\n",
    "filename"
   ]
  },
  {
   "cell_type": "code",
   "execution_count": 66,
   "metadata": {},
   "outputs": [],
   "source": [
    "briefing_data.to_csv(filename,index=False)"
   ]
  },
  {
   "cell_type": "code",
   "execution_count": null,
   "metadata": {},
   "outputs": [],
   "source": []
  }
 ],
 "metadata": {
  "kernelspec": {
   "display_name": "Python 3",
   "language": "python",
   "name": "python3"
  },
  "language_info": {
   "codemirror_mode": {
    "name": "ipython",
    "version": 3
   },
   "file_extension": ".py",
   "mimetype": "text/x-python",
   "name": "python",
   "nbconvert_exporter": "python",
   "pygments_lexer": "ipython3",
   "version": "3.7.6"
  }
 },
 "nbformat": 4,
 "nbformat_minor": 4
}
